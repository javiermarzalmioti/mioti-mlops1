{
 "cells": [
  {
   "cell_type": "code",
   "execution_count": 12,
   "id": "3244f6cf",
   "metadata": {},
   "outputs": [],
   "source": [
    "import pandas as pd"
   ]
  },
  {
   "cell_type": "code",
   "execution_count": 13,
   "id": "78d86d4e",
   "metadata": {},
   "outputs": [],
   "source": [
    "\n",
    "dictionary = {'fecha': '2024-05-22',\n",
    "'total_trafico': 1865962.0,\n",
    " 'tmed': 10.4,\n",
    " 'prec': 0.0,\n",
    " 'tmin': 6.7,\n",
    " 'tmax': 14.0,\n",
    " 'presMax': 959.4,\n",
    " 'presMin': 953.8,\n",
    " 'velmedia': 3.6,\n",
    " 'dir': 23.0,\n",
    " 'sol': 1.2,\n",
    " 'hrMedia': 69.0,\n",
    " 'hrMax': 82.0,\n",
    " 'hrMin': 61.0,\n",
    " 'trafico_aereo': 4457433.497948014,\n",
    " 'AQI_calculated': 60.0,\n",
    " 'Temp_Hum': 717.6,\n",
    " 'VelViento_DirViento': 82.8,\n",
    " 'Temp_VelViento': 239.2,\n",
    " 'RadSolar_Temp': 12.48,\n",
    " 'Presion_Hum': 78670.8,\n",
    " 'Prec_Hum': 0.0,\n",
    " 'RadSolar_Hum': 82.8\n",
    "}"
   ]
  },
  {
   "cell_type": "code",
   "execution_count": 7,
   "id": "0e0bd57e",
   "metadata": {},
   "outputs": [],
   "source": [
    "\n",
    "def weekday_encoding(message):\n",
    "    weekday_encoded = {'Dia_0': 0, 'Dia_1': 0, 'Dia_2': 0, 'Dia_3': 0, 'Dia_4': 0, 'Dia_5' : 0, 'Dia_6': 0}\n",
    "    message['fecha'] = pd.to_datetime(message['fecha']) \n",
    "    message['Dia_semana'] = message['fecha'].dayofweek \n",
    "    if message['Dia_semana'] == 0:\n",
    "        weekday_encoded['Dia_0'] = 1\n",
    "    elif message['Dia_semana'] == 1:\n",
    "        weekday_encoded['Dia_1'] = 1\n",
    "    elif message['Dia_semana'] == 2:\n",
    "        weekday_encoded['Dia_2'] = 1\n",
    "    elif message['Dia_semana'] == 3:\n",
    "        weekday_encoded['Dia_3'] = 1\n",
    "    elif message['Dia_semana'] == 4:\n",
    "        weekday_encoded['Dia_4'] = 1   \n",
    "    elif message['Dia_semana'] == 5:\n",
    "        weekday_encoded['Dia_5'] = 1\n",
    "    elif message['Dia_semana'] == 6:\n",
    "        weekday_encoded['Dia_6'] = 1   \n",
    "    del message['Dia_semana']\n",
    "\n",
    "    message.update(weekday_encoded)\n",
    "    return message\n"
   ]
  },
  {
   "cell_type": "code",
   "execution_count": null,
   "id": "e34f6138",
   "metadata": {},
   "outputs": [],
   "source": [
    "updated_message = weekday(dictionary)"
   ]
  },
  {
   "cell_type": "code",
   "execution_count": null,
   "id": "a22d73db",
   "metadata": {},
   "outputs": [],
   "source": [
    "print(updated_message)"
   ]
  },
  {
   "cell_type": "code",
   "execution_count": 8,
   "id": "970b97e8",
   "metadata": {},
   "outputs": [],
   "source": [
    "def month_encoding(message):\n",
    "    month_encoded = {'Mes_1': 0, 'Mes_2': 0, 'Mes_3': 0, 'Mes_4': 0, 'Mes_5': 0, 'Mes_6' : 0, 'Mes_7': 0, 'Mes_8': 0, 'Mes_9': 0, 'Mes_10': 0, 'Mes_11':0 ,'Mes_10': 0, 'Mes_11': 0, 'Mes_12': 0}\n",
    "    message['fecha'] = pd.to_datetime(message['fecha']) \n",
    "    message['Mes'] = message['fecha'].month \n",
    "    if message['Mes'] == 1:\n",
    "        month_encoded['Mes_1'] = 1\n",
    "    elif message['Mes'] == 2:\n",
    "        month_encoded['Mes_2'] = 1\n",
    "    elif message['Mes'] == 3:\n",
    "        month_encoded['Mes_3'] = 1\n",
    "    elif message['Mes'] == 4:\n",
    "        month_encoded['Mes_4'] = 1   \n",
    "    elif message['Mes'] == 5:\n",
    "        month_encoded['Mes_5'] = 1\n",
    "    elif message['Mes'] == 6:\n",
    "        month_encoded['Mes_6'] = 1\n",
    "    elif message['Mes'] == 7:\n",
    "        month_encoded['Mes_7'] = 1 \n",
    "    elif message['Mes'] == 8:\n",
    "        month_encoded['Mes_8'] = 1 \n",
    "    elif message['Mes'] == 9:\n",
    "        month_encoded['Mes_9'] = 1\n",
    "    elif message['Mes'] == 10:\n",
    "        month_encoded['Mes_10'] = 1\n",
    "    elif message['Mes'] == 11:\n",
    "        month_encoded['Mes_11'] = 1\n",
    "    elif message['Mes'] == 12:\n",
    "        month_encoded['Mes_12'] = 1 \n",
    "    del message['Mes']\n",
    "\n",
    "    message.update(month_encoded)\n",
    "    return message"
   ]
  },
  {
   "cell_type": "code",
   "execution_count": null,
   "id": "289e0d9b",
   "metadata": {},
   "outputs": [],
   "source": [
    "updated_message = month(dictionary)"
   ]
  },
  {
   "cell_type": "code",
   "execution_count": null,
   "id": "836c6086",
   "metadata": {},
   "outputs": [],
   "source": [
    "print(updated_message)"
   ]
  },
  {
   "cell_type": "code",
   "execution_count": 9,
   "id": "c5b08f03",
   "metadata": {},
   "outputs": [],
   "source": [
    "def season_encoding(message): \n",
    "    season_encoded = {'Estacion_1':0, 'Estacion_2': 0, 'Estacion_3': 0, 'Estacion_4': 0}\n",
    "    message['fecha'] = pd.to_datetime(message['fecha']) \n",
    "    message['Estacion'] = message['fecha'].quarter \n",
    "    if message['Estacion'] == 1:\n",
    "        season_encoded['Estacion_1'] == 1\n",
    "    elif message ['Estacion'] == 2:\n",
    "        season_encoded['Estacion_2'] == 1\n",
    "    elif message ['Estacion'] == 3:\n",
    "        season_encoded['Estacion_3'] == 1\n",
    "    elif message ['Estacion'] == 4:\n",
    "        season_encoded['Estacion_3'] == 1\n",
    "    del message[\"Estacion\"]\n",
    "    message.update(season_encoded)\n",
    "    return message"
   ]
  },
  {
   "cell_type": "code",
   "execution_count": null,
   "id": "392a890d",
   "metadata": {},
   "outputs": [],
   "source": [
    "updated_message = season(dictionary)"
   ]
  },
  {
   "cell_type": "code",
   "execution_count": null,
   "id": "5e6d99b8",
   "metadata": {},
   "outputs": [],
   "source": [
    "print(updated_message)"
   ]
  },
  {
   "cell_type": "code",
   "execution_count": 10,
   "id": "dd671276",
   "metadata": {},
   "outputs": [],
   "source": [
    "def data_prep(message):\n",
    "    weekday_encoding(message)\n",
    "    month_encoding(message)\n",
    "    season_encoding(message)\n",
    "    \n",
    "    del message['fecha']\n",
    "    return message"
   ]
  },
  {
   "cell_type": "code",
   "execution_count": 11,
   "id": "2b526b2e",
   "metadata": {},
   "outputs": [
    {
     "data": {
      "text/plain": [
       "{'total_trafico': 1865962.0,\n",
       " 'tmed': 10.4,\n",
       " 'prec': 0.0,\n",
       " 'tmin': 6.7,\n",
       " 'tmax': 14.0,\n",
       " 'presMax': 959.4,\n",
       " 'presMin': 953.8,\n",
       " 'velmedia': 3.6,\n",
       " 'dir': 23.0,\n",
       " 'sol': 1.2,\n",
       " 'hrMedia': 69.0,\n",
       " 'hrMax': 82.0,\n",
       " 'hrMin': 61.0,\n",
       " 'trafico_aereo': 4457433.497948014,\n",
       " 'AQI_calculated': 60.0,\n",
       " 'Temp_Hum': 717.6,\n",
       " 'VelViento_DirViento': 82.8,\n",
       " 'Temp_VelViento': 239.2,\n",
       " 'RadSolar_Temp': 12.48,\n",
       " 'Presion_Hum': 78670.8,\n",
       " 'Prec_Hum': 0.0,\n",
       " 'RadSolar_Hum': 82.8,\n",
       " 'Dia_0': 0,\n",
       " 'Dia_1': 0,\n",
       " 'Dia_2': 1,\n",
       " 'Dia_3': 0,\n",
       " 'Dia_4': 0,\n",
       " 'Dia_5': 0,\n",
       " 'Dia_6': 0,\n",
       " 'Mes_1': 0,\n",
       " 'Mes_2': 0,\n",
       " 'Mes_3': 0,\n",
       " 'Mes_4': 0,\n",
       " 'Mes_5': 1,\n",
       " 'Mes_6': 0,\n",
       " 'Mes_7': 0,\n",
       " 'Mes_8': 0,\n",
       " 'Mes_9': 0,\n",
       " 'Mes_10': 0,\n",
       " 'Mes_11': 0,\n",
       " 'Mes_12': 0,\n",
       " 'Estacion': 2,\n",
       " 'Estacion_1': 0,\n",
       " 'Estacion_2': 0,\n",
       " 'Estacion_3': 0,\n",
       " 'Estacion_4': 0}"
      ]
     },
     "execution_count": 11,
     "metadata": {},
     "output_type": "execute_result"
    }
   ],
   "source": [
    "data_prep(dictionary)"
   ]
  },
  {
   "cell_type": "code",
   "execution_count": null,
   "id": "33422efb",
   "metadata": {},
   "outputs": [],
   "source": []
  }
 ],
 "metadata": {
  "kernelspec": {
   "display_name": "Python [conda env:base] *",
   "language": "python",
   "name": "conda-base-py"
  },
  "language_info": {
   "codemirror_mode": {
    "name": "ipython",
    "version": 3
   },
   "file_extension": ".py",
   "mimetype": "text/x-python",
   "name": "python",
   "nbconvert_exporter": "python",
   "pygments_lexer": "ipython3",
   "version": "3.11.7"
  }
 },
 "nbformat": 4,
 "nbformat_minor": 5
}
